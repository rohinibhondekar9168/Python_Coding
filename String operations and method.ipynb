{
 "cells": [
  {
   "cell_type": "markdown",
   "id": "42c49845-d352-40be-9747-349887513f93",
   "metadata": {},
   "source": [
    "Multiple variable assignment"
   ]
  },
  {
   "cell_type": "code",
   "execution_count": 1,
   "id": "1213ff4c-35e0-4a93-8171-06a4ba9e7010",
   "metadata": {},
   "outputs": [
    {
     "name": "stdout",
     "output_type": "stream",
     "text": [
      "10 20\n"
     ]
    }
   ],
   "source": [
    "x = 10\n",
    "y = 20\n",
    "print(x,y)"
   ]
  },
  {
   "cell_type": "code",
   "execution_count": 2,
   "id": "deb5475b-fb0f-476b-89fb-6ed8abe1605a",
   "metadata": {},
   "outputs": [
    {
     "name": "stdout",
     "output_type": "stream",
     "text": [
      "40 50\n"
     ]
    }
   ],
   "source": [
    "a,b = 40,50\n",
    "print(a,b)"
   ]
  },
  {
   "cell_type": "code",
   "execution_count": 4,
   "id": "ef461515-6635-4c78-9099-48063581daef",
   "metadata": {},
   "outputs": [
    {
     "name": "stdout",
     "output_type": "stream",
     "text": [
      "Abc\n",
      "1234\n"
     ]
    }
   ],
   "source": [
    "database = [\"Abc\", 1234]\n",
    "name,pin=database\n",
    "print(name)\n",
    "print(pin)"
   ]
  },
  {
   "cell_type": "code",
   "execution_count": 8,
   "id": "610fe72d-0866-4a5d-bfa8-42a0b5645920",
   "metadata": {},
   "outputs": [
    {
     "data": {
      "text/plain": [
       "[0, 20, 40]"
      ]
     },
     "execution_count": 8,
     "metadata": {},
     "output_type": "execute_result"
    }
   ],
   "source": [
    "a=b=c=[0,20,40]\n",
    "a"
   ]
  },
  {
   "cell_type": "code",
   "execution_count": 9,
   "id": "c9960c00-e2b9-4776-8a43-ded9ca7b51a3",
   "metadata": {},
   "outputs": [
    {
     "data": {
      "text/plain": [
       "[0, 20, 40]"
      ]
     },
     "execution_count": 9,
     "metadata": {},
     "output_type": "execute_result"
    }
   ],
   "source": [
    "b"
   ]
  },
  {
   "cell_type": "code",
   "execution_count": 10,
   "id": "c9f15624-8d32-4dbc-ba69-e338dad4a302",
   "metadata": {},
   "outputs": [
    {
     "data": {
      "text/plain": [
       "[0, 20, 40]"
      ]
     },
     "execution_count": 10,
     "metadata": {},
     "output_type": "execute_result"
    }
   ],
   "source": [
    "c"
   ]
  },
  {
   "cell_type": "code",
   "execution_count": null,
   "id": "d5e70b35-9438-493d-83a4-239b4ed9753b",
   "metadata": {},
   "outputs": [],
   "source": [
    "a=b=c=a,b,c"
   ]
  },
  {
   "cell_type": "code",
   "execution_count": 11,
   "id": "ad82f499-2fdd-4479-af25-f8c8d0d8c4d2",
   "metadata": {},
   "outputs": [
    {
     "data": {
      "text/plain": [
       "7"
      ]
     },
     "execution_count": 11,
     "metadata": {},
     "output_type": "execute_result"
    }
   ],
   "source": [
    "a,b,c=[7,9,4]\n",
    "a"
   ]
  },
  {
   "cell_type": "code",
   "execution_count": 12,
   "id": "d3939abb-ae14-4280-ae04-763defa67e79",
   "metadata": {},
   "outputs": [
    {
     "data": {
      "text/plain": [
       "9"
      ]
     },
     "execution_count": 12,
     "metadata": {},
     "output_type": "execute_result"
    }
   ],
   "source": [
    "b"
   ]
  },
  {
   "cell_type": "markdown",
   "id": "55ad695b-461c-4eea-8cd7-cafdb7e14388",
   "metadata": {},
   "source": [
    "Variable Swapping "
   ]
  },
  {
   "cell_type": "code",
   "execution_count": 14,
   "id": "a6e5739d-ec82-44b6-bfd1-ec64bebc610e",
   "metadata": {},
   "outputs": [],
   "source": [
    "a = \"AAA\""
   ]
  },
  {
   "cell_type": "code",
   "execution_count": 15,
   "id": "755b5236-12b3-43fd-9fcf-580be0dcbf37",
   "metadata": {},
   "outputs": [],
   "source": [
    "b = \"BBB\""
   ]
  },
  {
   "cell_type": "code",
   "execution_count": 16,
   "id": "08594991-7475-49a1-b49d-9c2db42902ac",
   "metadata": {},
   "outputs": [
    {
     "data": {
      "text/plain": [
       "'AAA'"
      ]
     },
     "execution_count": 16,
     "metadata": {},
     "output_type": "execute_result"
    }
   ],
   "source": [
    "a"
   ]
  },
  {
   "cell_type": "code",
   "execution_count": 17,
   "id": "656cbc5c-a72b-4cb4-ad59-c1579db24bc2",
   "metadata": {},
   "outputs": [
    {
     "data": {
      "text/plain": [
       "'BBB'"
      ]
     },
     "execution_count": 17,
     "metadata": {},
     "output_type": "execute_result"
    }
   ],
   "source": [
    "b"
   ]
  },
  {
   "cell_type": "code",
   "execution_count": 18,
   "id": "365ea1a2-1976-411e-8e75-c23c1a5b4c7a",
   "metadata": {},
   "outputs": [],
   "source": [
    "a,b=b,a"
   ]
  },
  {
   "cell_type": "code",
   "execution_count": 19,
   "id": "614feaf6-7960-4d9f-b687-04fc0a826c94",
   "metadata": {},
   "outputs": [
    {
     "data": {
      "text/plain": [
       "('BBB', 'AAA')"
      ]
     },
     "execution_count": 19,
     "metadata": {},
     "output_type": "execute_result"
    }
   ],
   "source": [
    "a,b"
   ]
  },
  {
   "cell_type": "markdown",
   "id": "e0f5e77c-96b9-4b25-adde-a59fc47bd1f8",
   "metadata": {},
   "source": [
    "Assignment \n",
    "1. Explain in detail what will be  the output of the following program?.\n",
    "\n",
    "x = 4\n",
    "\n",
    "y = x + 1\n",
    "\n",
    "x = 2\n",
    "\n",
    "print x, y\n",
    "\n"
   ]
  },
  {
   "cell_type": "code",
   "execution_count": 21,
   "id": "c43911d7-21e3-4617-97ec-b6fa9adc200c",
   "metadata": {},
   "outputs": [],
   "source": [
    "x=4"
   ]
  },
  {
   "cell_type": "code",
   "execution_count": 23,
   "id": "34a4df9e-1c53-4775-a775-906b08630a79",
   "metadata": {},
   "outputs": [],
   "source": [
    "y = x + 1"
   ]
  },
  {
   "cell_type": "code",
   "execution_count": 25,
   "id": "b3707ae2-4cff-4fc5-89e7-ee6cbb319a0b",
   "metadata": {},
   "outputs": [],
   "source": [
    "x = 2"
   ]
  },
  {
   "cell_type": "code",
   "execution_count": 27,
   "id": "35d6c1fd-10fa-41e5-9352-45443701d55c",
   "metadata": {},
   "outputs": [
    {
     "data": {
      "text/plain": [
       "2"
      ]
     },
     "execution_count": 27,
     "metadata": {},
     "output_type": "execute_result"
    }
   ],
   "source": [
    "x"
   ]
  },
  {
   "cell_type": "code",
   "execution_count": 29,
   "id": "2a6641e6-1484-4d9c-bc27-18c22df27749",
   "metadata": {},
   "outputs": [
    {
     "data": {
      "text/plain": [
       "5"
      ]
     },
     "execution_count": 29,
     "metadata": {},
     "output_type": "execute_result"
    }
   ],
   "source": [
    "y"
   ]
  },
  {
   "cell_type": "code",
   "execution_count": 30,
   "id": "bb4673e1-8199-40ef-9501-ec559bfa4955",
   "metadata": {},
   "outputs": [
    {
     "data": {
      "text/plain": [
       "2"
      ]
     },
     "execution_count": 30,
     "metadata": {},
     "output_type": "execute_result"
    }
   ],
   "source": [
    "x"
   ]
  },
  {
   "cell_type": "markdown",
   "id": "66f6bfdb-4e9a-4f95-acec-2f7263fd119b",
   "metadata": {},
   "source": [
    "2. Create a python script to print hello, world! four times."
   ]
  },
  {
   "cell_type": "code",
   "execution_count": 38,
   "id": "ca26ee9d-2b55-4a77-aece-fbf39c93c662",
   "metadata": {},
   "outputs": [
    {
     "name": "stdout",
     "output_type": "stream",
     "text": [
      "hello,world!hello,world!hello,world!hello,world!\n"
     ]
    }
   ],
   "source": [
    "x = \"hello,world!\"\n",
    "print(x*4)"
   ]
  },
  {
   "cell_type": "markdown",
   "id": "8ae2e67a-6bc8-4155-8891-164c456fe1b6",
   "metadata": {},
   "source": [
    "Data Types"
   ]
  },
  {
   "cell_type": "code",
   "execution_count": 2,
   "id": "5b6806b3-d369-461f-99d3-fbf86c2eaf30",
   "metadata": {},
   "outputs": [
    {
     "name": "stdout",
     "output_type": "stream",
     "text": [
      "4\n"
     ]
    }
   ],
   "source": [
    "a = 2\n",
    "print(a+2)"
   ]
  },
  {
   "cell_type": "code",
   "execution_count": 3,
   "id": "1d2c30d6-56a1-4e8f-b282-d3f38de13bad",
   "metadata": {},
   "outputs": [
    {
     "name": "stdout",
     "output_type": "stream",
     "text": [
      "-10\n"
     ]
    }
   ],
   "source": [
    "a = -10\n",
    "print(a)"
   ]
  },
  {
   "cell_type": "code",
   "execution_count": 4,
   "id": "f7617924-522e-41e6-9817-c7a791b2b2bb",
   "metadata": {},
   "outputs": [
    {
     "data": {
      "text/plain": [
       "100"
      ]
     },
     "execution_count": 4,
     "metadata": {},
     "output_type": "execute_result"
    }
   ],
   "source": [
    "res = a * a\n",
    "res"
   ]
  },
  {
   "cell_type": "code",
   "execution_count": 5,
   "id": "8d34e47c-c989-4b7a-8502-1c31c29c6228",
   "metadata": {},
   "outputs": [
    {
     "data": {
      "text/plain": [
       "3.14"
      ]
     },
     "execution_count": 5,
     "metadata": {},
     "output_type": "execute_result"
    }
   ],
   "source": [
    "pi = 3.14 // float\n",
    "pi\n"
   ]
  },
  {
   "cell_type": "code",
   "execution_count": 7,
   "id": "1abb3426-ec8d-4c96-bb04-ca583aba3e4e",
   "metadata": {},
   "outputs": [
    {
     "data": {
      "text/plain": [
       "(2+3j)"
      ]
     },
     "execution_count": 7,
     "metadata": {},
     "output_type": "execute_result"
    }
   ],
   "source": [
    "c = 2 + 3j\n",
    "c"
   ]
  },
  {
   "cell_type": "code",
   "execution_count": null,
   "id": "b6d42309-763b-4a87-85b4-53898553c0e5",
   "metadata": {},
   "outputs": [],
   "source": [
    "String Operations and Method"
   ]
  },
  {
   "cell_type": "code",
   "execution_count": 10,
   "id": "84debfc6-b319-48a0-8e17-8cc75ba693e4",
   "metadata": {},
   "outputs": [
    {
     "name": "stdout",
     "output_type": "stream",
     "text": [
      "Rohit <class 'str'>\n",
      "Sharma <class 'str'>\n"
     ]
    }
   ],
   "source": [
    "first_name = \"Rohit\"\n",
    "last_name = \"Sharma\"\n",
    "print(first_name,type(first_name))\n",
    "print(last_name,type(last_name))\n"
   ]
  },
  {
   "cell_type": "code",
   "execution_count": 20,
   "id": "040c4914-0c69-4379-ad83-6c4e8b37e45f",
   "metadata": {},
   "outputs": [
    {
     "data": {
      "text/plain": [
       "'Python is a easy to read\\nand write, python works on diiferent platform\\nit is portable'"
      ]
     },
     "execution_count": 20,
     "metadata": {},
     "output_type": "execute_result"
    }
   ],
   "source": [
    "s1 = \"\"\"Python is a easy to read\n",
    "and write, python works on diiferent platform\n",
    "it is portable\"\"\"\n",
    "s1"
   ]
  },
  {
   "cell_type": "code",
   "execution_count": 17,
   "id": "2e02937f-07f6-4769-bc8b-6798389e5b35",
   "metadata": {},
   "outputs": [
    {
     "name": "stdout",
     "output_type": "stream",
     "text": [
      " <class 'str'>\n"
     ]
    }
   ],
   "source": [
    "mystring = \"\"\n",
    "mystring\n",
    "print(mystring,type(mystring))"
   ]
  },
  {
   "cell_type": "code",
   "execution_count": 23,
   "id": "a822569a-396b-49a4-ba06-8b49010e49a8",
   "metadata": {},
   "outputs": [
    {
     "name": "stdout",
     "output_type": "stream",
     "text": [
      "This is beginning This is middle ,This is end\n"
     ]
    }
   ],
   "source": [
    "s1 = \"This is beginning \"\n",
    "s2 = \"This is middle ,\"\n",
    "s3 = \"This is end\"\n",
    "print(s1 + s2 + s3)"
   ]
  },
  {
   "cell_type": "code",
   "execution_count": 24,
   "id": "393dbf74-133c-4464-90c9-94c43244ab9c",
   "metadata": {},
   "outputs": [
    {
     "data": {
      "text/plain": [
       "'hello hello hello '"
      ]
     },
     "execution_count": 24,
     "metadata": {},
     "output_type": "execute_result"
    }
   ],
   "source": [
    "x = \"hello \"*3 # asterisk character is use to repeat a string\n",
    "x"
   ]
  },
  {
   "cell_type": "code",
   "execution_count": 26,
   "id": "1933373e-3c00-4f9a-91ba-70c608db3d5a",
   "metadata": {},
   "outputs": [
    {
     "data": {
      "text/plain": [
       "'hello world hello world hello world '"
      ]
     },
     "execution_count": 26,
     "metadata": {},
     "output_type": "execute_result"
    }
   ],
   "source": [
    "x = \"hello world \"*3\n",
    "x"
   ]
  },
  {
   "cell_type": "markdown",
   "id": "f63a8441-3275-485f-9650-9d6bb502fb7c",
   "metadata": {},
   "source": [
    "Membership Operators will let you test for sub-strings inside a string:"
   ]
  },
  {
   "cell_type": "code",
   "execution_count": null,
   "id": "921198a1-fcf2-412d-9a5b-ffbe1e040bc3",
   "metadata": {},
   "outputs": [],
   "source": [
    "In: True if value/variable is found in the sequence"
   ]
  },
  {
   "cell_type": "code",
   "execution_count": 30,
   "id": "4198fbe6-2b28-4ba5-a8a4-091f9a2d461c",
   "metadata": {},
   "outputs": [
    {
     "data": {
      "text/plain": [
       "True"
      ]
     },
     "execution_count": 30,
     "metadata": {},
     "output_type": "execute_result"
    }
   ],
   "source": [
    "string = \"Itvedant\"\n",
    "'It' in string"
   ]
  },
  {
   "cell_type": "code",
   "execution_count": 29,
   "id": "b94aaa52-0f0d-4cad-8c09-05a7a8327b32",
   "metadata": {},
   "outputs": [
    {
     "data": {
      "text/plain": [
       "False"
      ]
     },
     "execution_count": 29,
     "metadata": {},
     "output_type": "execute_result"
    }
   ],
   "source": [
    "'Ti' in string"
   ]
  },
  {
   "cell_type": "markdown",
   "id": "1a15e6cf-16bd-440c-a9da-27ed12a68dbc",
   "metadata": {},
   "source": [
    "Not in : True if value /variable is not found in sequence"
   ]
  },
  {
   "cell_type": "code",
   "execution_count": 32,
   "id": "22b00e64-f2e3-4008-acc3-c75640734d24",
   "metadata": {},
   "outputs": [
    {
     "data": {
      "text/plain": [
       "True"
      ]
     },
     "execution_count": 32,
     "metadata": {},
     "output_type": "execute_result"
    }
   ],
   "source": [
    "string = \"Itvedant\"\n",
    "\"Ti\" not in string"
   ]
  },
  {
   "cell_type": "code",
   "execution_count": 33,
   "id": "ed7ea3af-1323-4db2-9230-6524d8e3693e",
   "metadata": {},
   "outputs": [
    {
     "data": {
      "text/plain": [
       "False"
      ]
     },
     "execution_count": 33,
     "metadata": {},
     "output_type": "execute_result"
    }
   ],
   "source": [
    "string = \"Itvedant\"\n",
    "\"It\" not in string"
   ]
  },
  {
   "cell_type": "markdown",
   "id": "8edbb86a-39b1-4b1c-b44b-68b4aa67ebc8",
   "metadata": {},
   "source": [
    "We can access characters from string in 2  ways\n",
    "\n",
    "\n",
    "1.Indexing\n",
    "\n",
    "2.Slicing\n",
    "\n"
   ]
  },
  {
   "cell_type": "code",
   "execution_count": 35,
   "id": "c4bbc8b2-82a1-40a1-ae39-cd74737c2a04",
   "metadata": {},
   "outputs": [
    {
     "data": {
      "text/plain": [
       "'H'"
      ]
     },
     "execution_count": 35,
     "metadata": {},
     "output_type": "execute_result"
    }
   ],
   "source": [
    "string = \"Hello World\"\n",
    "string[0]"
   ]
  },
  {
   "cell_type": "code",
   "execution_count": 36,
   "id": "0d052e85-fa61-4308-998a-f4ed41a71aaa",
   "metadata": {},
   "outputs": [
    {
     "data": {
      "text/plain": [
       "'e'"
      ]
     },
     "execution_count": 36,
     "metadata": {},
     "output_type": "execute_result"
    }
   ],
   "source": [
    "string[1]"
   ]
  },
  {
   "cell_type": "code",
   "execution_count": 39,
   "id": "34c80289-442b-4ab0-8b80-659a332eae7c",
   "metadata": {},
   "outputs": [
    {
     "ename": "IndexError",
     "evalue": "string index out of range",
     "output_type": "error",
     "traceback": [
      "\u001b[1;31m---------------------------------------------------------------------------\u001b[0m",
      "\u001b[1;31mIndexError\u001b[0m                                Traceback (most recent call last)",
      "Cell \u001b[1;32mIn[39], line 1\u001b[0m\n\u001b[1;32m----> 1\u001b[0m string[\u001b[38;5;241m12\u001b[39m]\n",
      "\u001b[1;31mIndexError\u001b[0m: string index out of range"
     ]
    }
   ],
   "source": [
    "string[12] # Index error"
   ]
  },
  {
   "cell_type": "code",
   "execution_count": 41,
   "id": "fd480908-2be2-409b-9ebe-bca2cb577292",
   "metadata": {},
   "outputs": [
    {
     "name": "stdout",
     "output_type": "stream",
     "text": [
      "I\n"
     ]
    }
   ],
   "source": [
    "s = \"Itvedant Education\"\n",
    "print(s[0])"
   ]
  },
  {
   "cell_type": "code",
   "execution_count": 42,
   "id": "97576ecb-23fb-4be4-a815-f55aaedda679",
   "metadata": {},
   "outputs": [
    {
     "name": "stdout",
     "output_type": "stream",
     "text": [
      "n\n"
     ]
    }
   ],
   "source": [
    "print(s[-1])"
   ]
  },
  {
   "cell_type": "code",
   "execution_count": 43,
   "id": "e14bb62c-43b2-4b36-a08b-a90aaf75a9e8",
   "metadata": {},
   "outputs": [
    {
     "name": "stdout",
     "output_type": "stream",
     "text": [
      "a\n"
     ]
    }
   ],
   "source": [
    "print(s[-5])"
   ]
  },
  {
   "cell_type": "code",
   "execution_count": 46,
   "id": "03cd4b3a-49cc-4e80-bbb3-0d1eed37f894",
   "metadata": {},
   "outputs": [
    {
     "name": "stdout",
     "output_type": "stream",
     "text": [
      "18\n"
     ]
    }
   ],
   "source": [
    "print(len(s))"
   ]
  },
  {
   "cell_type": "code",
   "execution_count": 47,
   "id": "f3459ba2-1b37-450c-a3bc-849a64296027",
   "metadata": {},
   "outputs": [
    {
     "name": "stdout",
     "output_type": "stream",
     "text": [
      "-18\n"
     ]
    }
   ],
   "source": [
    "print(-len(s))"
   ]
  },
  {
   "cell_type": "code",
   "execution_count": null,
   "id": "92df34ba-f0e7-44b5-8978-5af044c965ad",
   "metadata": {},
   "outputs": [],
   "source": [
    "Slicing"
   ]
  },
  {
   "cell_type": "code",
   "execution_count": 48,
   "id": "7e405e20-4861-41e4-bb0b-089bac3e5f3d",
   "metadata": {},
   "outputs": [
    {
     "name": "stdout",
     "output_type": "stream",
     "text": [
      "Itvedant Education\n"
     ]
    }
   ],
   "source": [
    "s = \"Itvedant Education\"\n",
    "print(s[::])"
   ]
  },
  {
   "cell_type": "code",
   "execution_count": 52,
   "id": "39782ec1-2e72-42dd-87fd-050dafadd220",
   "metadata": {},
   "outputs": [
    {
     "name": "stdout",
     "output_type": "stream",
     "text": [
      "Itvedant Education\n"
     ]
    }
   ],
   "source": [
    "print(s[0:len(s)])"
   ]
  },
  {
   "cell_type": "code",
   "execution_count": 53,
   "id": "376a5987-447c-4336-aa05-a49640e49cf7",
   "metadata": {},
   "outputs": [
    {
     "name": "stdout",
     "output_type": "stream",
     "text": [
      "Itvedant Education\n"
     ]
    }
   ],
   "source": [
    "print(s[0:len(s):1])"
   ]
  },
  {
   "cell_type": "code",
   "execution_count": 54,
   "id": "1485c554-7671-4648-9ae4-15c0e44c99ef",
   "metadata": {},
   "outputs": [
    {
     "name": "stdout",
     "output_type": "stream",
     "text": [
      "t\n"
     ]
    }
   ],
   "source": [
    "print(s[1:2])"
   ]
  },
  {
   "cell_type": "code",
   "execution_count": 55,
   "id": "b1a3ef1d-362e-4bc5-a929-1a8ede1b0e47",
   "metadata": {},
   "outputs": [
    {
     "name": "stdout",
     "output_type": "stream",
     "text": [
      "tvedant Education\n"
     ]
    }
   ],
   "source": [
    "print(s[1:50:1])"
   ]
  },
  {
   "cell_type": "markdown",
   "id": "a4ca1c12-0d5a-490e-b05e-84c79cdd5872",
   "metadata": {},
   "source": [
    "len() function: Using len function you can find out length (total count of characters) in string,"
   ]
  },
  {
   "cell_type": "code",
   "execution_count": 56,
   "id": "9ebebf0a-2375-4634-8091-839dfdf6fdf6",
   "metadata": {},
   "outputs": [
    {
     "name": "stdout",
     "output_type": "stream",
     "text": [
      "18\n"
     ]
    }
   ],
   "source": [
    "print(len(s))"
   ]
  },
  {
   "cell_type": "code",
   "execution_count": 57,
   "id": "452b13be-7ecc-40ad-9b8f-488d9e5425f0",
   "metadata": {},
   "outputs": [
    {
     "name": "stdout",
     "output_type": "stream",
     "text": [
      "17\n"
     ]
    }
   ],
   "source": [
    "print(len(s)-1) # subtracting one"
   ]
  },
  {
   "cell_type": "code",
   "execution_count": 58,
   "id": "7445149b-e311-47e2-86ee-e147d5ca877a",
   "metadata": {},
   "outputs": [
    {
     "name": "stdout",
     "output_type": "stream",
     "text": [
      "16\n"
     ]
    }
   ],
   "source": [
    "print(len(s)-2)"
   ]
  },
  {
   "cell_type": "code",
   "execution_count": null,
   "id": "3527c674-cd6c-467a-9898-410f4062b0a2",
   "metadata": {},
   "outputs": [],
   "source": [
    "String Function:\n",
    "Functions to remove spaces from string:"
   ]
  },
  {
   "cell_type": "markdown",
   "id": "32a358df-59da-4151-a4ac-fd30ba0f46a9",
   "metadata": {},
   "source": [
    "rstrip() : Used to trim right side whitespaces from the string object.\n",
    "\n",
    "lstrip() : Used to trim left side whitespaces from the string object.\n",
    "\n",
    "strip() : Used to trim both side whitespaces from the string object."
   ]
  },
  {
   "cell_type": "code",
   "execution_count": 69,
   "id": "e438c1a0-9199-4efc-bcb6-b3dbd2d74d2d",
   "metadata": {},
   "outputs": [
    {
     "name": "stdout",
     "output_type": "stream",
     "text": [
      "Right strip:  string2"
     ]
    }
   ],
   "source": [
    "str1 = \"  String1 \"\n",
    "str2 = \" string2  \"\n",
    "print(\"Right strip:\",str2.rstrip(),end=\"\")"
   ]
  },
  {
   "cell_type": "code",
   "execution_count": 66,
   "id": "4357b324-496c-4839-bebd-89a6e7913895",
   "metadata": {},
   "outputs": [
    {
     "name": "stdout",
     "output_type": "stream",
     "text": [
      "left strip: String1"
     ]
    }
   ],
   "source": [
    "print(\"left strip:\",str1.lstrip(),end=\"\")"
   ]
  },
  {
   "cell_type": "code",
   "execution_count": 72,
   "id": "a90df2d0-3099-4737-b1ad-1aa86ceac25c",
   "metadata": {},
   "outputs": [
    {
     "name": "stdout",
     "output_type": "stream",
     "text": [
      "strip: String1"
     ]
    }
   ],
   "source": [
    "print(\"strip:\",str1.strip(),end=\"\")"
   ]
  },
  {
   "cell_type": "raw",
   "id": "7afee960-a459-45ee-ad9c-bd7355bb1217",
   "metadata": {},
   "source": [
    "Functions to remove spaces from string:\r\n",
    "\r\n",
    "\r\n",
    "capitalize() :  Returns the string with the first character capitalized and rest of the characters in lower case.\r\n",
    "\r\n",
    "lower() - Converts all the characters of the String to lowercase\r\n",
    "\r\n",
    "upper() - Converts all the characters of the String to uppercase\r\n",
    "\r\n",
    "title() - Returns the 'titlecased' version of String, which means that all words start with uppercase and the rest of the characters in words are in lowercase.\r\n",
    "\r\n",
    "swapcase() - swap the case. Convert capital letters into lowercase and lowercase letters into uppercase"
   ]
  },
  {
   "cell_type": "code",
   "execution_count": 73,
   "id": "9fdb65e1-aeee-4f12-9aa9-d301426c3e4d",
   "metadata": {},
   "outputs": [
    {
     "name": "stdout",
     "output_type": "stream",
     "text": [
      "Uppercase: ITVEDANT EDUCATION\n"
     ]
    }
   ],
   "source": [
    "s=\"itVedaNt eduCation\"\n",
    "print(\"Uppercase:\",s.upper())"
   ]
  },
  {
   "cell_type": "code",
   "execution_count": 74,
   "id": "300094f9-b0b9-42b3-b1dd-78ed38cf18e0",
   "metadata": {},
   "outputs": [
    {
     "name": "stdout",
     "output_type": "stream",
     "text": [
      "Lowercase: itvedant education\n"
     ]
    }
   ],
   "source": [
    "print(\"Lowercase:\",s.lower())"
   ]
  },
  {
   "cell_type": "code",
   "execution_count": 75,
   "id": "e72cdeda-e5d6-46b2-b01b-e5872fa428aa",
   "metadata": {},
   "outputs": [
    {
     "name": "stdout",
     "output_type": "stream",
     "text": [
      "capitalize: Itvedant education\n"
     ]
    }
   ],
   "source": [
    "print(\"capitalize:\",s.capitalize())"
   ]
  },
  {
   "cell_type": "code",
   "execution_count": 76,
   "id": "5fa72670-0420-4984-8e56-0d6d8a266d28",
   "metadata": {},
   "outputs": [
    {
     "name": "stdout",
     "output_type": "stream",
     "text": [
      "Swapcase: ITvEDAnT EDUcATION\n"
     ]
    }
   ],
   "source": [
    "print(\"Swapcase:\",s.swapcase())"
   ]
  },
  {
   "cell_type": "code",
   "execution_count": 78,
   "id": "8de3b302-0798-4495-a601-8cbb509b2f62",
   "metadata": {},
   "outputs": [
    {
     "name": "stdout",
     "output_type": "stream",
     "text": [
      "title Itvedant Education\n"
     ]
    }
   ],
   "source": [
    "print(\"title:\",s.title())"
   ]
  },
  {
   "cell_type": "code",
   "execution_count": null,
   "id": "1b9d9b5f-3ec4-4992-825f-936e3cfc953c",
   "metadata": {},
   "outputs": [],
   "source": [
    "Functions to find type of character in string:"
   ]
  },
  {
   "cell_type": "code",
   "execution_count": 79,
   "id": "c0e8108d-add3-4f0c-a410-a3a07bca0881",
   "metadata": {},
   "outputs": [
    {
     "name": "stdout",
     "output_type": "stream",
     "text": [
      "False\n",
      "True\n",
      "True\n",
      "True\n",
      "True\n",
      "True\n"
     ]
    }
   ],
   "source": [
    "s1=\"ab#d123\"\n",
    "\n",
    "s2=\"itvedant\"\n",
    "\n",
    "s3=\"1232\"\n",
    "\n",
    "s4=\"ABC\"\n",
    "\n",
    "s5=\"Hello All\"\n",
    "\n",
    "print(s1.isalnum())#it will check alpha numeric[a-za-Z0-9],it will return T/F\n",
    "\n",
    "print(s2.isalpha())#it will check alpha [a-za-Z],it will return T/F\n",
    "\n",
    "print(s3.isdigit())#it will check numbers[0-9],it will return T/F\n",
    "\n",
    "print(s4.isupper())\n",
    "\n",
    "print(s2.islower())\n",
    "\n",
    "print(s5.istitle())"
   ]
  },
  {
   "cell_type": "code",
   "execution_count": 81,
   "id": "77d1a3ec-36f3-4d50-8cc8-2d752d9f5c82",
   "metadata": {},
   "outputs": [
    {
     "name": "stdout",
     "output_type": "stream",
     "text": [
      "3\n"
     ]
    }
   ],
   "source": [
    "s5 = \"pYTHON IS A HIGH LEVVEL LANGUAGE\"\n",
    "print(s5.count('L'))"
   ]
  },
  {
   "cell_type": "code",
   "execution_count": 82,
   "id": "389d4d66-31ff-479e-86e9-a2e293487c4d",
   "metadata": {},
   "outputs": [
    {
     "name": "stdout",
     "output_type": "stream",
     "text": [
      "pYTHON IS A LOW LEVVEL LANGUAGE\n"
     ]
    }
   ],
   "source": [
    "print(s5.replace('HIGH','LOW'))"
   ]
  },
  {
   "cell_type": "code",
   "execution_count": null,
   "id": "bc8b0d07-1cb6-4929-b848-845a9eea3df7",
   "metadata": {},
   "outputs": [],
   "source": [
    "Split(  split_char ) - Splits the string at the specified separator, and returns a list"
   ]
  },
  {
   "cell_type": "code",
   "execution_count": 84,
   "id": "3a1425b6-794c-4848-a951-1509bd0f0c3c",
   "metadata": {},
   "outputs": [
    {
     "name": "stdout",
     "output_type": "stream",
     "text": [
      "['python', 'java', 'php', '.net']\n"
     ]
    }
   ],
   "source": [
    "x=\"python-java-php-.net\"\n",
    "print(x.split('-'))"
   ]
  },
  {
   "cell_type": "code",
   "execution_count": 87,
   "id": "268b6b5e-0cf9-495f-aadb-4bb8b77a600b",
   "metadata": {},
   "outputs": [
    {
     "name": "stdout",
     "output_type": "stream",
     "text": [
      "['2022', '03', '01']\n"
     ]
    }
   ],
   "source": [
    "date='2022/03/01'\n",
    "print(date.split('/'))"
   ]
  },
  {
   "cell_type": "code",
   "execution_count": null,
   "id": "47869012-3856-44ed-9e9d-6a10f7402fa9",
   "metadata": {},
   "outputs": [],
   "source": [
    "ASCII Character Codes: \n",
    "There are 128 characters in the standard ASCII set. \n",
    "You can use the ord() and chr() built in functions in python to return ASCII \n",
    ">>> ord('a') \n",
    "\n",
    "97 \n",
    "\n",
    ">>> chr(97) \n",
    "\n",
    "'a'"
   ]
  },
  {
   "cell_type": "code",
   "execution_count": 89,
   "id": "99035edc-d5dc-4297-977d-460bd6ebae7d",
   "metadata": {},
   "outputs": [
    {
     "data": {
      "text/plain": [
       "122"
      ]
     },
     "execution_count": 89,
     "metadata": {},
     "output_type": "execute_result"
    }
   ],
   "source": [
    "ord(\"z\")"
   ]
  },
  {
   "cell_type": "code",
   "execution_count": 90,
   "id": "56888242-7240-44a2-830f-729b9aeedfea",
   "metadata": {},
   "outputs": [
    {
     "data": {
      "text/plain": [
       "'N'"
      ]
     },
     "execution_count": 90,
     "metadata": {},
     "output_type": "execute_result"
    }
   ],
   "source": [
    "chr(78)"
   ]
  },
  {
   "cell_type": "code",
   "execution_count": null,
   "id": "c4556efb-9773-4bc5-bb33-30152e6a6652",
   "metadata": {},
   "outputs": [],
   "source": []
  },
  {
   "cell_type": "code",
   "execution_count": null,
   "id": "35821b85-fbcc-4ccc-aaea-a73654562192",
   "metadata": {},
   "outputs": [],
   "source": []
  }
 ],
 "metadata": {
  "kernelspec": {
   "display_name": "Python 3 (ipykernel)",
   "language": "python",
   "name": "python3"
  },
  "language_info": {
   "codemirror_mode": {
    "name": "ipython",
    "version": 3
   },
   "file_extension": ".py",
   "mimetype": "text/x-python",
   "name": "python",
   "nbconvert_exporter": "python",
   "pygments_lexer": "ipython3",
   "version": "3.11.7"
  }
 },
 "nbformat": 4,
 "nbformat_minor": 5
}
