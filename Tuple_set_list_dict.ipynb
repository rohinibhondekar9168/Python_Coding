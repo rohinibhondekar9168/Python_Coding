{
 "cells": [
  {
   "cell_type": "markdown",
   "id": "bb99fcc7-c557-45ae-b29f-cece6e539a92",
   "metadata": {},
   "source": [
    "Tuple,List,Dictionary,Set"
   ]
  },
  {
   "cell_type": "markdown",
   "id": "0b6538d0-f399-4782-aadc-cb97e29336f2",
   "metadata": {},
   "source": [
    "A tuple is a frozen list i.e tuple cannot be modified once it is created.\n",
    "\n",
    "A tuple is declared with round parentheses ()\n",
    "\n",
    "As tuple are immutable, iterating through tuple is faster than with list"
   ]
  },
  {
   "cell_type": "markdown",
   "id": "229ec256-5363-4fdf-b0a7-db17eb98b9d2",
   "metadata": {},
   "source": [
    "t = (10,56.8,\"ITVEDANT\", \"THANE\", \"NAVI-MUMBAI\",567)\n",
    "print(t)"
   ]
  },
  {
   "cell_type": "code",
   "execution_count": 2,
   "id": "96487748-f670-40ca-b1b2-d50f92268655",
   "metadata": {},
   "outputs": [
    {
     "name": "stdout",
     "output_type": "stream",
     "text": [
      "<class 'tuple'>\n"
     ]
    }
   ],
   "source": [
    "print(type(t))"
   ]
  },
  {
   "cell_type": "code",
   "execution_count": 3,
   "id": "a904b66e-7c30-40ed-8311-aee2d707e007",
   "metadata": {},
   "outputs": [
    {
     "name": "stdout",
     "output_type": "stream",
     "text": [
      "('ITVEDANT', 'THANE', 'NAVI-MUMBAI')\n"
     ]
    }
   ],
   "source": [
    "print(t[-4:-1])"
   ]
  },
  {
   "cell_type": "code",
   "execution_count": 5,
   "id": "55fec8aa-8955-41fa-8aed-f566ff7cfcb4",
   "metadata": {},
   "outputs": [
    {
     "name": "stdout",
     "output_type": "stream",
     "text": [
      "Total no.of element in the tuple: 6\n"
     ]
    }
   ],
   "source": [
    "print(\"Total no.of element in the tuple:\",len(t))   #This function returns the number of elements in the tuple"
   ]
  },
  {
   "cell_type": "code",
   "execution_count": null,
   "id": "ff42a760-3cbd-4b53-a674-ed33ada27dbc",
   "metadata": {},
   "outputs": [],
   "source": [
    "Loop over Tuple"
   ]
  },
  {
   "cell_type": "code",
   "execution_count": 9,
   "id": "33e6a2a1-5863-4d47-bf0e-a88756d50b8d",
   "metadata": {},
   "outputs": [
    {
     "name": "stdout",
     "output_type": "stream",
     "text": [
      "10 \n",
      "56.8 \n"
     ]
    }
   ],
   "source": [
    "for i in range(0,2,1):\n",
    "    print(t[i],end=\" \")\n",
    "    print()"
   ]
  },
  {
   "cell_type": "code",
   "execution_count": 10,
   "id": "11c9320f-b6da-4ded-a668-a5c49b38ef10",
   "metadata": {},
   "outputs": [
    {
     "name": "stdout",
     "output_type": "stream",
     "text": [
      "('ITVEDANT', 'THANE', 'NAVI-MUMBAI')\n"
     ]
    }
   ],
   "source": [
    "print(t[2:5:1])"
   ]
  },
  {
   "cell_type": "markdown",
   "id": "711fba9c-d4df-4d98-a43d-359af5f1e1cb",
   "metadata": {},
   "source": [
    "Modifying Tuple\n",
    "\n",
    "Since Tuple is immutable we cannot add an element,update an element and delete a particular element from the tuple.\n",
    "\n",
    "Note: we can delete the entire Tuple with the help of del keyword."
   ]
  },
  {
   "cell_type": "code",
   "execution_count": 11,
   "id": "c277d66c-af63-4d22-9cfc-d99d1cac2641",
   "metadata": {},
   "outputs": [
    {
     "name": "stdout",
     "output_type": "stream",
     "text": [
      "(10, 56.8, 'ITVEDANT', 'THANE', 'NAVI-MUMBAI', 567)\n"
     ]
    }
   ],
   "source": [
    "t = (10,56.8,\"ITVEDANT\", \"THANE\", \"NAVI-MUMBAI\",567)\n",
    "print(t)"
   ]
  },
  {
   "cell_type": "code",
   "execution_count": 13,
   "id": "f6733eca-7a86-465b-a674-c6ce272fd5e2",
   "metadata": {},
   "outputs": [
    {
     "name": "stdout",
     "output_type": "stream",
     "text": [
      "<class 'tuple'>\n"
     ]
    }
   ],
   "source": [
    "print(type(t))"
   ]
  },
  {
   "cell_type": "code",
   "execution_count": 15,
   "id": "ef899a45-a820-4f81-a392-4e192620e0ea",
   "metadata": {},
   "outputs": [],
   "source": [
    "del t"
   ]
  },
  {
   "cell_type": "code",
   "execution_count": 16,
   "id": "a1d091fa-8814-4d22-9d81-f44c50474f1d",
   "metadata": {},
   "outputs": [
    {
     "ename": "NameError",
     "evalue": "name 't' is not defined",
     "output_type": "error",
     "traceback": [
      "\u001b[1;31m---------------------------------------------------------------------------\u001b[0m",
      "\u001b[1;31mNameError\u001b[0m                                 Traceback (most recent call last)",
      "Cell \u001b[1;32mIn[16], line 1\u001b[0m\n\u001b[1;32m----> 1\u001b[0m t\n",
      "\u001b[1;31mNameError\u001b[0m: name 't' is not defined"
     ]
    }
   ],
   "source": [
    "t"
   ]
  },
  {
   "cell_type": "code",
   "execution_count": 14,
   "id": "3750d7f5-501c-4849-9144-7dfbe0a121f3",
   "metadata": {},
   "outputs": [
    {
     "name": "stdout",
     "output_type": "stream",
     "text": [
      "Hello World\n"
     ]
    }
   ],
   "source": [
    "print(\"Hello \", end=\"\") #With end='' (no newline, prints continuously)\n",
    "print(\"World\")"
   ]
  },
  {
   "cell_type": "code",
   "execution_count": null,
   "id": "2c657daf-219f-4687-8125-ccd058a7e2d2",
   "metadata": {},
   "outputs": [],
   "source": [
    "List Operations & Methods"
   ]
  },
  {
   "cell_type": "code",
   "execution_count": null,
   "id": "836a1894-1f76-4624-a53b-428494d0e48a",
   "metadata": {},
   "outputs": [],
   "source": [
    "A list refers to a collection of elements"
   ]
  },
  {
   "cell_type": "code",
   "execution_count": 17,
   "id": "77ed463a-5867-4fb0-bf1f-400cd1421324",
   "metadata": {},
   "outputs": [],
   "source": [
    "mylist1 = [2,-3,0,4,-1]\n",
    "mylist2 = [\"Java\",\"Python\",78,56.9]"
   ]
  },
  {
   "cell_type": "code",
   "execution_count": 22,
   "id": "ce8db94d-170d-4792-92e8-675b7e64ac09",
   "metadata": {},
   "outputs": [
    {
     "name": "stdout",
     "output_type": "stream",
     "text": [
      "[2, -3, 0, 4, -1]\n"
     ]
    }
   ],
   "source": [
    "print(mylist1[0:5:1])"
   ]
  },
  {
   "cell_type": "code",
   "execution_count": 23,
   "id": "ec840178-5540-4b1d-94c4-9d86785c3080",
   "metadata": {},
   "outputs": [
    {
     "name": "stdout",
     "output_type": "stream",
     "text": [
      "[-1, 4, 0, -3, 2]\n"
     ]
    }
   ],
   "source": [
    "print(mylist1[::-1]) # The reverse of the list is thus simply possible using [::-1]"
   ]
  },
  {
   "cell_type": "code",
   "execution_count": null,
   "id": "1f81346b-bbb1-4d2d-a48a-8c3ae9e8e244",
   "metadata": {},
   "outputs": [],
   "source": [
    "mylist2 = [\"Java\",\"Python\",78,56.9]"
   ]
  },
  {
   "cell_type": "code",
   "execution_count": 25,
   "id": "3f1c695b-bda6-4008-952d-39f42d4123d5",
   "metadata": {},
   "outputs": [
    {
     "data": {
      "text/plain": [
       "['Java', 'Python', 78, 56.9, 'Power Bi', 'Power Bi']"
      ]
     },
     "execution_count": 25,
     "metadata": {},
     "output_type": "execute_result"
    }
   ],
   "source": [
    "mylist2.append(\"Power Bi\")\n",
    "mylist2"
   ]
  },
  {
   "cell_type": "code",
   "execution_count": 26,
   "id": "000b1cf9-1c90-44e4-b06c-581e3decc78e",
   "metadata": {},
   "outputs": [
    {
     "data": {
      "text/plain": [
       "['Power Bi', 'Java', 'Python', 78, 56.9, 'Power Bi', 'Power Bi']"
      ]
     },
     "execution_count": 26,
     "metadata": {},
     "output_type": "execute_result"
    }
   ],
   "source": [
    "mylist2.insert(0,\"Power Bi\")\n",
    "mylist2"
   ]
  },
  {
   "cell_type": "code",
   "execution_count": 28,
   "id": "1f67f650-a6aa-4f61-901e-0781fe7770b7",
   "metadata": {},
   "outputs": [
    {
     "data": {
      "text/plain": [
       "['Power Bi',\n",
       " 'Java',\n",
       " 'Python',\n",
       " 78,\n",
       " 56.9,\n",
       " 'Power Bi',\n",
       " 'Power Bi',\n",
       " 'P',\n",
       " 'o',\n",
       " 'w',\n",
       " 'e',\n",
       " 'r',\n",
       " ' ',\n",
       " 'B',\n",
       " 'i',\n",
       " 'P',\n",
       " 'o',\n",
       " 'w',\n",
       " 'e']"
      ]
     },
     "execution_count": 28,
     "metadata": {},
     "output_type": "execute_result"
    }
   ],
   "source": [
    "mylist2.extend(\"Powe\")\n",
    "mylist2"
   ]
  },
  {
   "cell_type": "code",
   "execution_count": 39,
   "id": "d5eb0ac7-56d3-400f-85bf-862a64976a52",
   "metadata": {},
   "outputs": [
    {
     "data": {
      "text/plain": [
       "[10, 56.8, 'ITVEDANT', 'THANE', 'NAVI-MUMBAI', 567]"
      ]
     },
     "execution_count": 39,
     "metadata": {},
     "output_type": "execute_result"
    }
   ],
   "source": [
    "t1 = [10, 56.8,\"ITVEDANT\", \"THANE\", \"NAVI-MUMBAI\",567]\n",
    "t1"
   ]
  },
  {
   "cell_type": "code",
   "execution_count": 42,
   "id": "ccb11e91-c7a8-48f5-9b4f-3a1760ee93cf",
   "metadata": {},
   "outputs": [
    {
     "name": "stdout",
     "output_type": "stream",
     "text": [
      "[567, 'NAVI-MUMBAI', 'THANE', 'ITVEDANT', 56.8, 10]\n"
     ]
    }
   ],
   "source": [
    "print(t[::-1])"
   ]
  },
  {
   "cell_type": "code",
   "execution_count": 43,
   "id": "1979a71f-3ac8-4ef7-b849-3f93915bfe2a",
   "metadata": {},
   "outputs": [
    {
     "data": {
      "text/plain": [
       "['h', 'u', 'm', 'a', 'n']"
      ]
     },
     "execution_count": 43,
     "metadata": {},
     "output_type": "execute_result"
    }
   ],
   "source": [
    "h_letter = [letter for letter in \"human\"] #list comprehension\n",
    "h_letter"
   ]
  },
  {
   "cell_type": "code",
   "execution_count": null,
   "id": "43ce582d-988e-45b8-a415-98006eab6a8a",
   "metadata": {},
   "outputs": [],
   "source": [
    "Dictionary\n",
    "--Dictionary is mutable type\n",
    "--it is key value pair"
   ]
  },
  {
   "cell_type": "code",
   "execution_count": 46,
   "id": "c355fbd9-45d9-4838-b5cb-61b1f4cd1902",
   "metadata": {},
   "outputs": [
    {
     "data": {
      "text/plain": [
       "{}"
      ]
     },
     "execution_count": 46,
     "metadata": {},
     "output_type": "execute_result"
    }
   ],
   "source": [
    "#creating an empty dictionary\n",
    "d = {}\n",
    "d\n"
   ]
  },
  {
   "cell_type": "code",
   "execution_count": 47,
   "id": "80c54239-91e1-455a-9091-ef034298aa8e",
   "metadata": {},
   "outputs": [
    {
     "data": {
      "text/plain": [
       "dict"
      ]
     },
     "execution_count": 47,
     "metadata": {},
     "output_type": "execute_result"
    }
   ],
   "source": [
    "type(d)"
   ]
  },
  {
   "cell_type": "code",
   "execution_count": 49,
   "id": "95c03026-c711-4940-a65b-11eaf645e774",
   "metadata": {},
   "outputs": [
    {
     "data": {
      "text/plain": [
       "{1: 'Red', 2: 'Blue', 3: 'Pink'}"
      ]
     },
     "execution_count": 49,
     "metadata": {},
     "output_type": "execute_result"
    }
   ],
   "source": [
    "#creating a dictionary with values\n",
    "d2 = {\n",
    "    1:\"Red\", 2:\"Blue\", 3:\"Pink\"\n",
    "}\n",
    "d2"
   ]
  },
  {
   "cell_type": "code",
   "execution_count": null,
   "id": "4b15144e-054a-4f71-ba10-28e0d807450d",
   "metadata": {},
   "outputs": [],
   "source": [
    "#Keys are always unique"
   ]
  },
  {
   "cell_type": "code",
   "execution_count": 50,
   "id": "7b9c6dc7-4ebb-47d8-849b-5822784d3736",
   "metadata": {},
   "outputs": [
    {
     "data": {
      "text/plain": [
       "{1: 'Pink', 2: 'Blue'}"
      ]
     },
     "execution_count": 50,
     "metadata": {},
     "output_type": "execute_result"
    }
   ],
   "source": [
    "d3 = {\n",
    "    1:\"Red\", 2:\"Blue\", 1:\"Pink\"\n",
    "}\n",
    "d3"
   ]
  },
  {
   "cell_type": "code",
   "execution_count": 51,
   "id": "8c15f1b8-8235-46d9-a33d-6d629f8a0c20",
   "metadata": {},
   "outputs": [],
   "source": [
    "#Keys can only contain immutable"
   ]
  },
  {
   "cell_type": "code",
   "execution_count": 54,
   "id": "7156c663-e1f8-4540-9d4e-90c4ca2b3c23",
   "metadata": {},
   "outputs": [
    {
     "data": {
      "text/plain": [
       "{1: 'bool', 12.23: 'float', 'abc': 'str', (1, 2, 3): 'tuple'}"
      ]
     },
     "execution_count": 54,
     "metadata": {},
     "output_type": "execute_result"
    }
   ],
   "source": [
    "d4 = {1 : \"int\", 12.23:\"float\", \"abc\":\"str\", True:\"bool\", (1,2,3):\"tuple\"}\n",
    "d4"
   ]
  },
  {
   "cell_type": "code",
   "execution_count": 55,
   "id": "a800a894-21b6-4aa2-b317-c5417057f36c",
   "metadata": {},
   "outputs": [
    {
     "ename": "TypeError",
     "evalue": "unhashable type: 'list'",
     "output_type": "error",
     "traceback": [
      "\u001b[1;31m---------------------------------------------------------------------------\u001b[0m",
      "\u001b[1;31mTypeError\u001b[0m                                 Traceback (most recent call last)",
      "Cell \u001b[1;32mIn[55], line 1\u001b[0m\n\u001b[1;32m----> 1\u001b[0m d5 \u001b[38;5;241m=\u001b[39m {[\u001b[38;5;241m1\u001b[39m,\u001b[38;5;241m2\u001b[39m,\u001b[38;5;241m3\u001b[39m]:\u001b[38;5;124m\"\u001b[39m\u001b[38;5;124mlist\u001b[39m\u001b[38;5;124m\"\u001b[39m}\n\u001b[0;32m      2\u001b[0m d5\n",
      "\u001b[1;31mTypeError\u001b[0m: unhashable type: 'list'"
     ]
    }
   ],
   "source": [
    "d5 = {[1,2,3]:\"list\"}\n",
    "d5"
   ]
  },
  {
   "cell_type": "code",
   "execution_count": 56,
   "id": "ddd17094-f208-4fc7-b0a9-c4072f94fecf",
   "metadata": {},
   "outputs": [
    {
     "data": {
      "text/plain": [
       "{'Snheha': 'Ambarnath', 'sagar': 'Badlapur', 'Pooja': 'Kalyan', 'hj': 'Kalyan'}"
      ]
     },
     "execution_count": 56,
     "metadata": {},
     "output_type": "execute_result"
    }
   ],
   "source": [
    "d5 = {\"Snheha\" : \"Ambarnath\", \"sagar\":\"Badlapur\",\"Pooja\":\"Kalyan\",\"hj\":\"Kalyan\"}\n",
    "d5"
   ]
  },
  {
   "cell_type": "code",
   "execution_count": 58,
   "id": "4ba44b7f-9273-4d49-85ab-0cd86b0b04e8",
   "metadata": {},
   "outputs": [
    {
     "data": {
      "text/plain": [
       "'Badlapur'"
      ]
     },
     "execution_count": 58,
     "metadata": {},
     "output_type": "execute_result"
    }
   ],
   "source": [
    "d5[\"sagar\"]"
   ]
  },
  {
   "cell_type": "code",
   "execution_count": 59,
   "id": "63c1663e-ddb3-4853-870b-5ba540213201",
   "metadata": {},
   "outputs": [
    {
     "data": {
      "text/plain": [
       "'Kalyan'"
      ]
     },
     "execution_count": 59,
     "metadata": {},
     "output_type": "execute_result"
    }
   ],
   "source": [
    "d5[\"Pooja\"]"
   ]
  },
  {
   "cell_type": "code",
   "execution_count": 60,
   "id": "d0ea6f45-2542-4a2c-85bc-5457e8c0003c",
   "metadata": {},
   "outputs": [
    {
     "ename": "KeyError",
     "evalue": "'neha'",
     "output_type": "error",
     "traceback": [
      "\u001b[1;31m---------------------------------------------------------------------------\u001b[0m",
      "\u001b[1;31mKeyError\u001b[0m                                  Traceback (most recent call last)",
      "Cell \u001b[1;32mIn[60], line 1\u001b[0m\n\u001b[1;32m----> 1\u001b[0m d5[\u001b[38;5;124m\"\u001b[39m\u001b[38;5;124mneha\u001b[39m\u001b[38;5;124m\"\u001b[39m]\n",
      "\u001b[1;31mKeyError\u001b[0m: 'neha'"
     ]
    }
   ],
   "source": [
    "d5[\"neha\"]"
   ]
  },
  {
   "cell_type": "code",
   "execution_count": 62,
   "id": "6b4449e4-1595-4287-ad26-62f6912505d3",
   "metadata": {},
   "outputs": [],
   "source": [
    "d5.get(\"Neha\") #empty not give error"
   ]
  },
  {
   "cell_type": "code",
   "execution_count": 63,
   "id": "ebff5b76-305a-4993-a46a-7d78b239d661",
   "metadata": {},
   "outputs": [
    {
     "data": {
      "text/plain": [
       "'Badlapur'"
      ]
     },
     "execution_count": 63,
     "metadata": {},
     "output_type": "execute_result"
    }
   ],
   "source": [
    "d5.get(\"sagar\")"
   ]
  },
  {
   "cell_type": "code",
   "execution_count": 65,
   "id": "c84858ae-db72-4cf6-b7b7-3ca5b908eae8",
   "metadata": {},
   "outputs": [
    {
     "name": "stdout",
     "output_type": "stream",
     "text": [
      "None\n"
     ]
    }
   ],
   "source": [
    "print(d5.get(\"neha\"))"
   ]
  },
  {
   "cell_type": "code",
   "execution_count": 68,
   "id": "def7a134-8b36-4178-9e6a-bc664805cb2b",
   "metadata": {},
   "outputs": [
    {
     "name": "stdout",
     "output_type": "stream",
     "text": [
      "not available\n"
     ]
    }
   ],
   "source": [
    "print(d5.get(\"Raju\",\"not available\")) # beauty of get not give error "
   ]
  },
  {
   "cell_type": "code",
   "execution_count": 72,
   "id": "e3243819-7051-46e3-b18a-d9a18ed71ca9",
   "metadata": {},
   "outputs": [
    {
     "name": "stdout",
     "output_type": "stream",
     "text": [
      "dict_keys(['Snheha', 'sagar', 'Pooja', 'hj'])\n"
     ]
    }
   ],
   "source": [
    "print(d5.keys())"
   ]
  },
  {
   "cell_type": "code",
   "execution_count": 71,
   "id": "f344f4ad-19c2-412c-9b4f-ca0ba934bea5",
   "metadata": {},
   "outputs": [
    {
     "data": {
      "text/plain": [
       "dict_values(['Ambarnath', 'Badlapur', 'Kalyan', 'Kalyan'])"
      ]
     },
     "execution_count": 71,
     "metadata": {},
     "output_type": "execute_result"
    }
   ],
   "source": [
    "d5.values()"
   ]
  },
  {
   "cell_type": "code",
   "execution_count": 74,
   "id": "85834767-8ddd-4164-aa01-0d3c9b523d5f",
   "metadata": {},
   "outputs": [
    {
     "data": {
      "text/plain": [
       "dict_items([('Snheha', 'Ambarnath'), ('sagar', 'Badlapur'), ('Pooja', 'Kalyan'), ('hj', 'Kalyan')])"
      ]
     },
     "execution_count": 74,
     "metadata": {},
     "output_type": "execute_result"
    }
   ],
   "source": [
    "d5.items() #list of tuple"
   ]
  },
  {
   "cell_type": "code",
   "execution_count": 98,
   "id": "715518a7-e0f0-4f69-bef2-4a8f7a82d5fb",
   "metadata": {},
   "outputs": [
    {
     "name": "stdout",
     "output_type": "stream",
     "text": [
      "Snheha\n",
      "Ambarnath\n",
      "sagar\n",
      "Badlapur\n",
      "Pooja\n",
      "Kalyan\n",
      "hj\n",
      "Kalyan\n"
     ]
    }
   ],
   "source": [
    "for key in d5:\n",
    "    print(key)\n",
    "    print(d5[key])\n"
   ]
  },
  {
   "cell_type": "code",
   "execution_count": 100,
   "id": "8da10ce3-7f42-4574-967a-04926dcf39c0",
   "metadata": {},
   "outputs": [
    {
     "data": {
      "text/plain": [
       "{}"
      ]
     },
     "execution_count": 100,
     "metadata": {},
     "output_type": "execute_result"
    }
   ],
   "source": [
    "null_dict={}\n",
    "null_dict"
   ]
  },
  {
   "cell_type": "code",
   "execution_count": 109,
   "id": "15ffdfe4-fc58-4c35-8a81-69efb12cb667",
   "metadata": {},
   "outputs": [
    {
     "data": {
      "text/plain": [
       "{'Snheha': 'Ambarnath',\n",
       " 'sagar': 'Badlapur',\n",
       " 'Pooja': 'Kalyan',\n",
       " 'hj': 'Kalyan',\n",
       " 'district': ['nagpur', 'raigad', 'dhule', 'amravati'],\n",
       " 'country': ('india', 'pakitstan', 'Rashiya', 'bangladesh')}"
      ]
     },
     "execution_count": 109,
     "metadata": {},
     "output_type": "execute_result"
    }
   ],
   "source": [
    "d5 = {\"Snheha\" : \"Ambarnath\", \"sagar\":\"Badlapur\",\"Pooja\":\"Kalyan\",\"hj\":\"Kalyan\", \"district\":[\"nagpur\",\"raigad\",\"dhule\",\"amravati\"],\n",
    "  \"country\":(\"india\",\"pakitstan\",\"Rashiya\",\"bangladesh\")}\n",
    "d5"
   ]
  },
  {
   "cell_type": "code",
   "execution_count": 114,
   "id": "184bab48-eb26-4299-8c46-913d0cab6589",
   "metadata": {},
   "outputs": [
    {
     "name": "stdout",
     "output_type": "stream",
     "text": [
      "('india', 'pakitstan', 'Rashiya', 'bangladesh')\n"
     ]
    }
   ],
   "source": [
    "print(d5[\"country\"])"
   ]
  },
  {
   "cell_type": "code",
   "execution_count": 115,
   "id": "d9830784-8922-42b2-bb33-5329cf607f42",
   "metadata": {},
   "outputs": [
    {
     "name": "stdout",
     "output_type": "stream",
     "text": [
      "['nagpur', 'raigad', 'dhule', 'amravati']\n"
     ]
    }
   ],
   "source": [
    "print(d5[\"district\"])"
   ]
  },
  {
   "cell_type": "code",
   "execution_count": 104,
   "id": "e6d87f1e-eb15-4b78-9023-059bfbd918ab",
   "metadata": {},
   "outputs": [
    {
     "data": {
      "text/plain": [
       "{'Snheha': 'Ambarnath', 'sagar': 'Mumbai', 'Pooja': 'Kalyan', 'hj': 'Kalyan'}"
      ]
     },
     "execution_count": 104,
     "metadata": {},
     "output_type": "execute_result"
    }
   ],
   "source": [
    "d5[\"sagar\"]=\"Mumbai\"\n",
    "d5"
   ]
  },
  {
   "cell_type": "code",
   "execution_count": 107,
   "id": "a1433f6e-6c7b-4b8b-b871-19897299512a",
   "metadata": {},
   "outputs": [
    {
     "name": "stdout",
     "output_type": "stream",
     "text": [
      "{'Snheha': 'Ambarnath', 'sagar': 'Mumbai', 'Pooja': 'Kalyan', 'hj': 'Kalyan', 'Rohit': 'Thane'}\n"
     ]
    }
   ],
   "source": [
    "d5[\"Rohit\"]=\"Thane\" #add new key value pair\n",
    "print(d5)"
   ]
  },
  {
   "cell_type": "code",
   "execution_count": null,
   "id": "dc249cce-8b77-42eb-b937-9549cd437d1f",
   "metadata": {},
   "outputs": [],
   "source": [
    "Nested Dictionary"
   ]
  },
  {
   "cell_type": "code",
   "execution_count": 118,
   "id": "9681381c-08e9-4493-8e08-3c45575f8101",
   "metadata": {},
   "outputs": [
    {
     "data": {
      "text/plain": [
       "{'name': 'Rohini',\n",
       " 'Surname': 'Shinde',\n",
       " 'Score': {'phy': 78, 'chy': 90, 'math': 45}}"
      ]
     },
     "execution_count": 118,
     "metadata": {},
     "output_type": "execute_result"
    }
   ],
   "source": [
    "Student = {\n",
    "    \"name\" : \"Rohini\",\n",
    "    \"Surname\" : \"Shinde\",\n",
    "    \"Score\":{\n",
    "    \"phy\":78,\n",
    "    \"chy\":90,\n",
    "    \"math\":45\n",
    "}\n",
    "}\n",
    "Student"
   ]
  },
  {
   "cell_type": "code",
   "execution_count": 122,
   "id": "b1d6fe6b-f066-434d-8cc4-d8972885beb8",
   "metadata": {},
   "outputs": [
    {
     "name": "stdout",
     "output_type": "stream",
     "text": [
      "Rohini\n"
     ]
    }
   ],
   "source": [
    "print(Student[\"name\"])"
   ]
  },
  {
   "cell_type": "code",
   "execution_count": 124,
   "id": "653dec8e-88c1-4dc1-ae1d-a99e54cff8f9",
   "metadata": {},
   "outputs": [
    {
     "name": "stdout",
     "output_type": "stream",
     "text": [
      "78\n"
     ]
    }
   ],
   "source": [
    "print(Student[ \"Score\"][\"phy\"])"
   ]
  },
  {
   "cell_type": "code",
   "execution_count": 125,
   "id": "61490c4a-c8e5-4e5d-b315-c2b2c225d21f",
   "metadata": {},
   "outputs": [
    {
     "data": {
      "text/plain": [
       "{'name': 'Rohini',\n",
       " 'Surname': 'Bhondekar',\n",
       " 'Score': {'phy': 78, 'chy': 90, 'math': 45}}"
      ]
     },
     "execution_count": 125,
     "metadata": {},
     "output_type": "execute_result"
    }
   ],
   "source": [
    "Student[\"Surname\"]=\"Bhondekar\"\n",
    "Student"
   ]
  },
  {
   "cell_type": "code",
   "execution_count": 126,
   "id": "5f5ad764-9134-48ea-a4bf-b38e5379f9b0",
   "metadata": {},
   "outputs": [
    {
     "name": "stdout",
     "output_type": "stream",
     "text": [
      "{'phy': 78, 'chy': 90, 'math': 45}\n"
     ]
    }
   ],
   "source": [
    "print(Student[\"Score\"])"
   ]
  },
  {
   "cell_type": "code",
   "execution_count": 127,
   "id": "c2fdfc19-24fd-4359-8a35-1c9d0bc8a0ff",
   "metadata": {},
   "outputs": [
    {
     "data": {
      "text/plain": [
       "dict_keys(['name', 'Surname', 'Score'])"
      ]
     },
     "execution_count": 127,
     "metadata": {},
     "output_type": "execute_result"
    }
   ],
   "source": [
    "Student.keys()"
   ]
  },
  {
   "cell_type": "code",
   "execution_count": 128,
   "id": "34ca4f3e-1405-4fc5-8ba0-13f199cb0afa",
   "metadata": {},
   "outputs": [
    {
     "data": {
      "text/plain": [
       "dict_values(['Rohini', 'Bhondekar', {'phy': 78, 'chy': 90, 'math': 45}])"
      ]
     },
     "execution_count": 128,
     "metadata": {},
     "output_type": "execute_result"
    }
   ],
   "source": [
    "Student.values()"
   ]
  },
  {
   "cell_type": "code",
   "execution_count": 130,
   "id": "6cfca4ca-7496-4e05-839b-dca141479a4e",
   "metadata": {},
   "outputs": [
    {
     "name": "stdout",
     "output_type": "stream",
     "text": [
      "['Rohini', 'Bhondekar', {'phy': 78, 'chy': 90, 'math': 45}]\n"
     ]
    }
   ],
   "source": [
    "print(list(Student.values())) #converted into list"
   ]
  },
  {
   "cell_type": "code",
   "execution_count": 132,
   "id": "84118558-38d8-482e-91fb-36b042aa107b",
   "metadata": {},
   "outputs": [
    {
     "name": "stdout",
     "output_type": "stream",
     "text": [
      "3\n"
     ]
    }
   ],
   "source": [
    "print(len(list(Student.values()))) #converted into list"
   ]
  },
  {
   "cell_type": "code",
   "execution_count": 134,
   "id": "86996141-0ffa-42e4-be26-0ab96ac556f9",
   "metadata": {},
   "outputs": [
    {
     "name": "stdout",
     "output_type": "stream",
     "text": [
      "3\n"
     ]
    }
   ],
   "source": [
    "print(len(Student.values()))"
   ]
  },
  {
   "cell_type": "code",
   "execution_count": 136,
   "id": "ca78885e-beac-4e78-b4b2-389bbca89263",
   "metadata": {},
   "outputs": [
    {
     "name": "stdout",
     "output_type": "stream",
     "text": [
      "[('name', 'Rohini'), ('Surname', 'Bhondekar'), ('Score', {'phy': 78, 'chy': 90, 'math': 45})]\n"
     ]
    }
   ],
   "source": [
    "print(list(Student.items()))"
   ]
  },
  {
   "cell_type": "code",
   "execution_count": 138,
   "id": "496daae2-771d-4cab-bb53-f545b10c190d",
   "metadata": {},
   "outputs": [],
   "source": [
    "pair=list(Student.items())"
   ]
  },
  {
   "cell_type": "code",
   "execution_count": 139,
   "id": "229746e6-e9b1-48cf-845c-e9343f81b1e1",
   "metadata": {},
   "outputs": [
    {
     "name": "stdout",
     "output_type": "stream",
     "text": [
      "('name', 'Rohini')\n"
     ]
    }
   ],
   "source": [
    "print(pair[0])"
   ]
  },
  {
   "cell_type": "code",
   "execution_count": 140,
   "id": "c0372662-34cc-4f7b-a524-f8ea7b63d492",
   "metadata": {},
   "outputs": [
    {
     "data": {
      "text/plain": [
       "{'name': 'Rohini',\n",
       " 'Surname': 'Bhondekar',\n",
       " 'Score': {'phy': 78, 'chy': 90, 'math': 45},\n",
       " 'city': 'delhi',\n",
       " 'age': 23}"
      ]
     },
     "execution_count": 140,
     "metadata": {},
     "output_type": "execute_result"
    }
   ],
   "source": [
    "Student.update({\"city\":\"delhi\",\"age\":23})\n",
    "Student"
   ]
  },
  {
   "cell_type": "code",
   "execution_count": null,
   "id": "10986f25-1d32-42bb-baee-a5ebdcdbd460",
   "metadata": {},
   "outputs": [],
   "source": []
  },
  {
   "cell_type": "code",
   "execution_count": 20,
   "id": "ae389385-8849-4eb1-b777-553e4c7bbc25",
   "metadata": {},
   "outputs": [
    {
     "data": {
      "text/plain": [
       "['I', 't', 'v', 'e', 'd', 'a', 'n', 't']"
      ]
     },
     "execution_count": 20,
     "metadata": {},
     "output_type": "execute_result"
    }
   ],
   "source": [
    "mylist3 = list(\"Itvedant\")\n",
    "mylist3"
   ]
  },
  {
   "cell_type": "code",
   "execution_count": null,
   "id": "ea852a0c-f93b-4fd1-8a1f-12f3956a09af",
   "metadata": {},
   "outputs": [],
   "source": [
    "Set Operations & Methods"
   ]
  },
  {
   "cell_type": "code",
   "execution_count": 78,
   "id": "7680891a-bde0-4b96-98fc-6906d106028e",
   "metadata": {},
   "outputs": [
    {
     "name": "stdout",
     "output_type": "stream",
     "text": [
      "frozenset({'o', 'e', 'u', 'i', 'a'})\n"
     ]
    }
   ],
   "source": [
    "vowels = (\"a\",\"e\",\"i\",\"o\",\"u\")\n",
    "fset = frozenset(vowels)\n",
    "print(fset)"
   ]
  },
  {
   "cell_type": "code",
   "execution_count": 80,
   "id": "c8af4283-896d-43c0-b32a-9d9ff9256e15",
   "metadata": {},
   "outputs": [
    {
     "data": {
      "text/plain": [
       "set()"
      ]
     },
     "execution_count": 80,
     "metadata": {},
     "output_type": "execute_result"
    }
   ],
   "source": [
    "null_set=set()\n",
    "null_set"
   ]
  },
  {
   "cell_type": "code",
   "execution_count": 81,
   "id": "54b2d301-e8e6-4243-9678-b26e90485dca",
   "metadata": {},
   "outputs": [
    {
     "data": {
      "text/plain": [
       "{1, 2, 3, 4, 'hello', 'world'}"
      ]
     },
     "execution_count": 81,
     "metadata": {},
     "output_type": "execute_result"
    }
   ],
   "source": [
    "collection = {1,2,3,2,4,\"hello\",\"world\"}\n",
    "collection"
   ]
  },
  {
   "cell_type": "code",
   "execution_count": 84,
   "id": "5c2861cb-8ebc-403b-b9a8-ff1412b2a743",
   "metadata": {},
   "outputs": [
    {
     "data": {
      "text/plain": [
       "{1, 2, 3, 4, 9, 'hello', 'world'}"
      ]
     },
     "execution_count": 84,
     "metadata": {},
     "output_type": "execute_result"
    }
   ],
   "source": [
    "collection.add(9)\n",
    "collection"
   ]
  },
  {
   "cell_type": "code",
   "execution_count": 86,
   "id": "675f6a01-7ec4-4559-9483-80f7549c1601",
   "metadata": {},
   "outputs": [
    {
     "data": {
      "text/plain": [
       "{(5, 6, 7, 3), 1, 2, 3, 4, 9, 'hello', 'world'}"
      ]
     },
     "execution_count": 86,
     "metadata": {},
     "output_type": "execute_result"
    }
   ],
   "source": [
    "collection.add((5,6,7,3))\n",
    "collection"
   ]
  },
  {
   "cell_type": "code",
   "execution_count": 88,
   "id": "2bd5ec1d-515b-4175-b324-2f31bf55367e",
   "metadata": {},
   "outputs": [
    {
     "data": {
      "text/plain": [
       "{(5, 6, 7, 3), 1, 2, 3, 4, 'hello', 'world'}"
      ]
     },
     "execution_count": 88,
     "metadata": {},
     "output_type": "execute_result"
    }
   ],
   "source": [
    "collection.remove(9)\n",
    "collection"
   ]
  },
  {
   "cell_type": "code",
   "execution_count": 91,
   "id": "6c10168c-c6b6-4f62-b8cb-418b555b015b",
   "metadata": {},
   "outputs": [
    {
     "data": {
      "text/plain": [
       "{(5, 6, 7, 3), 3, 4, 'hello', 'world'}"
      ]
     },
     "execution_count": 91,
     "metadata": {},
     "output_type": "execute_result"
    }
   ],
   "source": [
    "collection.pop()\n",
    "collection"
   ]
  },
  {
   "cell_type": "code",
   "execution_count": 92,
   "id": "fae3ce8e-1e5c-411d-a446-949c271d5d3f",
   "metadata": {},
   "outputs": [
    {
     "data": {
      "text/plain": [
       "set()"
      ]
     },
     "execution_count": 92,
     "metadata": {},
     "output_type": "execute_result"
    }
   ],
   "source": [
    "collection.clear()\n",
    "collection"
   ]
  },
  {
   "cell_type": "code",
   "execution_count": 94,
   "id": "57a2d5ca-4438-4026-b096-e1bff3b3a415",
   "metadata": {},
   "outputs": [
    {
     "data": {
      "text/plain": [
       "{1, 2, 3, 4, 5}"
      ]
     },
     "execution_count": 94,
     "metadata": {},
     "output_type": "execute_result"
    }
   ],
   "source": [
    "set1={1,2,3}\n",
    "set2={3,4,5}\n",
    "set1 | set2"
   ]
  },
  {
   "cell_type": "code",
   "execution_count": 95,
   "id": "d456407b-3aef-44d9-9659-50951e52baf3",
   "metadata": {},
   "outputs": [
    {
     "data": {
      "text/plain": [
       "{3}"
      ]
     },
     "execution_count": 95,
     "metadata": {},
     "output_type": "execute_result"
    }
   ],
   "source": [
    "set1={1,2,3}\n",
    "set2={3,4,5}\n",
    "set1 & set2"
   ]
  },
  {
   "cell_type": "code",
   "execution_count": null,
   "id": "1ae06db9-d12c-4491-96f5-5373a1900bcf",
   "metadata": {},
   "outputs": [],
   "source": [
    "Assignment\n",
    "Write a program to find all occurrences of 'USA' in a given string ignoring the case. \n",
    "\n",
    "Given: str1 = \"Welcome to USA. usa is awesome, isn't it?'"
   ]
  },
  {
   "cell_type": "code",
   "execution_count": 152,
   "id": "b2bf38de-3b0b-4929-a091-ff301246b8de",
   "metadata": {},
   "outputs": [
    {
     "name": "stdout",
     "output_type": "stream",
     "text": [
      "Welcome to USA  USA is awesome, isn't it?\n"
     ]
    }
   ],
   "source": [
    "str1 = \"Welcome to USA  usa is awesome, isn't it?\"\n",
    "print(str1.replace(\"usa\",\"USA\"))"
   ]
  },
  {
   "cell_type": "code",
   "execution_count": 153,
   "id": "a8329fec-7547-46b4-b593-5c9d195040a4",
   "metadata": {},
   "outputs": [
    {
     "name": "stdout",
     "output_type": "stream",
     "text": [
      "2\n"
     ]
    }
   ],
   "source": [
    "str1 = \"Welcome to USA  USA is awesome, isn't it?\"\n",
    "print(str1.count(\"USA\"))"
   ]
  },
  {
   "cell_type": "code",
   "execution_count": 155,
   "id": "0f073387-9d90-4f3c-b903-b3bee7603664",
   "metadata": {},
   "outputs": [
    {
     "name": "stdout",
     "output_type": "stream",
     "text": [
      "['Emma', 'is', 'a', 'data', 'scientist']\n"
     ]
    }
   ],
   "source": [
    "str1 = \"Emma-is-a-data-scientist\"\n",
    "print(str1.split(\"-\"))"
   ]
  },
  {
   "cell_type": "code",
   "execution_count": 160,
   "id": "3c9632c2-126f-42e6-af25-6244d366a1e0",
   "metadata": {},
   "outputs": [
    {
     "name": "stdout",
     "output_type": "stream",
     "text": [
      "5\n"
     ]
    }
   ],
   "source": [
    "print(len(str1.split(\"-\")))"
   ]
  }
 ],
 "metadata": {
  "kernelspec": {
   "display_name": "Python 3 (ipykernel)",
   "language": "python",
   "name": "python3"
  },
  "language_info": {
   "codemirror_mode": {
    "name": "ipython",
    "version": 3
   },
   "file_extension": ".py",
   "mimetype": "text/x-python",
   "name": "python",
   "nbconvert_exporter": "python",
   "pygments_lexer": "ipython3",
   "version": "3.11.7"
  }
 },
 "nbformat": 4,
 "nbformat_minor": 5
}
